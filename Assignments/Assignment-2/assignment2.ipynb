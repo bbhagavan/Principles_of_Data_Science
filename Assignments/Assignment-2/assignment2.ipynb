{
  "nbformat": 4,
  "nbformat_minor": 0,
  "metadata": {
    "colab": {
      "provenance": []
    },
    "kernelspec": {
      "name": "python3",
      "display_name": "Python 3"
    },
    "language_info": {
      "name": "python"
    }
  },
  "cells": [
    {
      "cell_type": "code",
      "execution_count": 1,
      "metadata": {
        "id": "SlAiHDUnQHqV"
      },
      "outputs": [],
      "source": [
        "import pandas as pd\n",
        "import numpy as np\n",
        "from sklearn.preprocessing import OneHotEncoder\n",
        "from sklearn.compose import ColumnTransformer\n",
        "from sklearn.pipeline import Pipeline"
      ]
    },
    {
      "cell_type": "code",
      "source": [
        "from google.colab import drive\n",
        "drive.mount('/content/drive')"
      ],
      "metadata": {
        "colab": {
          "base_uri": "https://localhost:8080/"
        },
        "id": "j44elIAmQxYL",
        "outputId": "66866331-7e55-4174-dc09-1dcf905e3409"
      },
      "execution_count": 2,
      "outputs": [
        {
          "output_type": "stream",
          "name": "stdout",
          "text": [
            "Mounted at /content/drive\n"
          ]
        }
      ]
    },
    {
      "cell_type": "code",
      "source": [
        "!cp \"/content/drive/MyDrive/Colab Notebooks/PDS/train.csv\" \"./data.csv\""
      ],
      "metadata": {
        "id": "wZy91Y9YQ1dG"
      },
      "execution_count": 3,
      "outputs": []
    },
    {
      "cell_type": "code",
      "source": [
        "df = pd.read_csv('./data.csv')\n",
        "\n",
        "print(\"Original DataFrame:\")\n",
        "print(df)\n",
        "print(\"\\n\" + \"=\"*50 + \"\\n\")"
      ],
      "metadata": {
        "colab": {
          "base_uri": "https://localhost:8080/"
        },
        "id": "eU4n9tP5QQ2t",
        "outputId": "53acc844-31e7-4821-b9d9-809fab356066"
      },
      "execution_count": 4,
      "outputs": [
        {
          "output_type": "stream",
          "name": "stdout",
          "text": [
            "Original DataFrame:\n",
            "      Unnamed: 0                              Name    Location  Year  \\\n",
            "0              1  Hyundai Creta 1.6 CRDi SX Option        Pune  2015   \n",
            "1              2                      Honda Jazz V     Chennai  2011   \n",
            "2              3                 Maruti Ertiga VDI     Chennai  2012   \n",
            "3              4   Audi A4 New 2.0 TDI Multitronic  Coimbatore  2013   \n",
            "4              6            Nissan Micra Diesel XV      Jaipur  2013   \n",
            "...          ...                               ...         ...   ...   \n",
            "5842        6014                  Maruti Swift VDI       Delhi  2014   \n",
            "5843        6015          Hyundai Xcent 1.1 CRDi S      Jaipur  2015   \n",
            "5844        6016             Mahindra Xylo D4 BSIV      Jaipur  2012   \n",
            "5845        6017                Maruti Wagon R VXI     Kolkata  2013   \n",
            "5846        6018             Chevrolet Beat Diesel   Hyderabad  2011   \n",
            "\n",
            "      Kilometers_Driven Fuel_Type Transmission Owner_Type     Mileage  \\\n",
            "0                 41000    Diesel       Manual      First  19.67 kmpl   \n",
            "1                 46000    Petrol       Manual      First    13 km/kg   \n",
            "2                 87000    Diesel       Manual      First  20.77 kmpl   \n",
            "3                 40670    Diesel    Automatic     Second   15.2 kmpl   \n",
            "4                 86999    Diesel       Manual      First  23.08 kmpl   \n",
            "...                 ...       ...          ...        ...         ...   \n",
            "5842              27365    Diesel       Manual      First   28.4 kmpl   \n",
            "5843             100000    Diesel       Manual      First   24.4 kmpl   \n",
            "5844              55000    Diesel       Manual     Second   14.0 kmpl   \n",
            "5845              46000    Petrol       Manual      First   18.9 kmpl   \n",
            "5846              47000    Diesel       Manual      First  25.44 kmpl   \n",
            "\n",
            "       Engine      Power  Seats  New_Price  Price  \n",
            "0     1582 CC  126.2 bhp    5.0        NaN  12.50  \n",
            "1     1199 CC   88.7 bhp    5.0  8.61 Lakh   4.50  \n",
            "2     1248 CC  88.76 bhp    7.0        NaN   6.00  \n",
            "3     1968 CC  140.8 bhp    5.0        NaN  17.74  \n",
            "4     1461 CC   63.1 bhp    5.0        NaN   3.50  \n",
            "...       ...        ...    ...        ...    ...  \n",
            "5842  1248 CC     74 bhp    5.0  7.88 Lakh   4.75  \n",
            "5843  1120 CC     71 bhp    5.0        NaN   4.00  \n",
            "5844  2498 CC    112 bhp    8.0        NaN   2.90  \n",
            "5845   998 CC   67.1 bhp    5.0        NaN   2.65  \n",
            "5846   936 CC   57.6 bhp    5.0        NaN   2.50  \n",
            "\n",
            "[5847 rows x 14 columns]\n",
            "\n",
            "==================================================\n",
            "\n"
          ]
        }
      ]
    },
    {
      "cell_type": "code",
      "source": [
        "print(\"Missing values before handling:\")\n",
        "print(df.isnull().sum())\n",
        "print(\"\\n\")"
      ],
      "metadata": {
        "colab": {
          "base_uri": "https://localhost:8080/"
        },
        "id": "K1u4okqgQU-c",
        "outputId": "e71c6f27-36e2-4fcc-ec4e-900323bc0a3a"
      },
      "execution_count": 5,
      "outputs": [
        {
          "output_type": "stream",
          "name": "stdout",
          "text": [
            "Missing values before handling:\n",
            "Unnamed: 0              0\n",
            "Name                    0\n",
            "Location                0\n",
            "Year                    0\n",
            "Kilometers_Driven       0\n",
            "Fuel_Type               0\n",
            "Transmission            0\n",
            "Owner_Type              0\n",
            "Mileage                 2\n",
            "Engine                 36\n",
            "Power                  36\n",
            "Seats                  38\n",
            "New_Price            5032\n",
            "Price                   0\n",
            "dtype: int64\n",
            "\n",
            "\n"
          ]
        }
      ]
    },
    {
      "cell_type": "code",
      "source": [
        "cols_with_missing = df.columns[df.isnull().any()].tolist()\n",
        "\n",
        "for col in cols_with_missing:\n",
        "    if col == 'New_Price':\n",
        "        df[col].fillna(0, inplace=True)\n",
        "        print(f\"Replacing 0 price for missing values in New_Price\")\n",
        "    elif df[col].dtype == 'object':\n",
        "        most_frequent = df[col].mode()[0]\n",
        "        df[col].fillna(most_frequent, inplace=True)\n",
        "        print(f\"Populating missing values in '{col}' with mode: '{most_frequent}'\")\n",
        "    elif df[col].dtype in ['int64', 'float64']:\n",
        "        median_value = df[col].median()\n",
        "        df[col].fillna(median_value, inplace=True)\n",
        "        print(f\"Populating missing values in '{col}' with median: {median_value}\")\n",
        "\n",
        "print(\"\\nMissing values after handling:\")\n",
        "print(df.isnull().sum())\n",
        "print(\"\\n\" + \"=\"*50 + \"\\n\")"
      ],
      "metadata": {
        "colab": {
          "base_uri": "https://localhost:8080/"
        },
        "id": "L5EzL0tHQZzh",
        "outputId": "863fdb39-68e4-431a-9aa7-e5da89feaf84"
      },
      "execution_count": 6,
      "outputs": [
        {
          "output_type": "stream",
          "name": "stdout",
          "text": [
            "Imputed missing values in 'Mileage' with mode: '18.9 kmpl'\n",
            "Imputed missing values in 'Engine' with mode: '1197 CC'\n",
            "Imputed missing values in 'Power' with mode: '74 bhp'\n",
            "Imputed missing values in 'Seats' with median: 5.0\n",
            "Replacing 0 price for missing values in New_Price\n",
            "\n",
            "Missing values after handling:\n",
            "Unnamed: 0           0\n",
            "Name                 0\n",
            "Location             0\n",
            "Year                 0\n",
            "Kilometers_Driven    0\n",
            "Fuel_Type            0\n",
            "Transmission         0\n",
            "Owner_Type           0\n",
            "Mileage              0\n",
            "Engine               0\n",
            "Power                0\n",
            "Seats                0\n",
            "New_Price            0\n",
            "Price                0\n",
            "dtype: int64\n",
            "\n",
            "==================================================\n",
            "\n"
          ]
        },
        {
          "output_type": "stream",
          "name": "stderr",
          "text": [
            "<ipython-input-6-d1666b7966ad>:10: FutureWarning: A value is trying to be set on a copy of a DataFrame or Series through chained assignment using an inplace method.\n",
            "The behavior will change in pandas 3.0. This inplace method will never work because the intermediate object on which we are setting values always behaves as a copy.\n",
            "\n",
            "For example, when doing 'df[col].method(value, inplace=True)', try using 'df.method({col: value}, inplace=True)' or df[col] = df[col].method(value) instead, to perform the operation inplace on the original object.\n",
            "\n",
            "\n",
            "  df[col].fillna(most_frequent, inplace=True)\n",
            "<ipython-input-6-d1666b7966ad>:15: FutureWarning: A value is trying to be set on a copy of a DataFrame or Series through chained assignment using an inplace method.\n",
            "The behavior will change in pandas 3.0. This inplace method will never work because the intermediate object on which we are setting values always behaves as a copy.\n",
            "\n",
            "For example, when doing 'df[col].method(value, inplace=True)', try using 'df.method({col: value}, inplace=True)' or df[col] = df[col].method(value) instead, to perform the operation inplace on the original object.\n",
            "\n",
            "\n",
            "  df[col].fillna(median_value, inplace=True)\n",
            "<ipython-input-6-d1666b7966ad>:5: FutureWarning: A value is trying to be set on a copy of a DataFrame or Series through chained assignment using an inplace method.\n",
            "The behavior will change in pandas 3.0. This inplace method will never work because the intermediate object on which we are setting values always behaves as a copy.\n",
            "\n",
            "For example, when doing 'df[col].method(value, inplace=True)', try using 'df.method({col: value}, inplace=True)' or df[col] = df[col].method(value) instead, to perform the operation inplace on the original object.\n",
            "\n",
            "\n",
            "  df[col].fillna(0, inplace=True)\n"
          ]
        }
      ]
    },
    {
      "cell_type": "markdown",
      "source": [
        "Reason for Missing Value Handling:\n",
        "- Choosing to fill missing data rather than simply removing rows helps preserve a broader dataset, which is especially important if the dataset isn't exceptionally large. Deleting rows could lead to significant information loss and skew the analysis.\n",
        "- For category-based features like 'Owner_Type' and 'Location', using the mode to replace missing values is logical. It substitutes with the most common category, which helps to maintain the original data distribution.\n",
        "- When dealing with numerical features such as 'Mileage' or 'Price', the median is preferable to the mean because it's less sensitive to extreme values. This ensures that the replacement values are more representative.\n",
        "- The decision to impute was made to maximize the data available for analysis. The method of imputation was tailored to each column's data type."
      ],
      "metadata": {
        "id": "Nyx1CBeWn496"
      }
    },
    {
      "cell_type": "code",
      "source": [
        "cols_to_clean = ['Mileage', 'Engine', 'Power', 'New_Price']\n",
        "for col in cols_to_clean:\n",
        "    if col in df.columns:\n",
        "        df[col] = df[col].astype(str).str.extract(r'(\\d+\\.?\\d*)').astype('float')\n",
        "        print(f\"Removed units from column '{col}'\")\n",
        "\n",
        "print(\"\\nDataFrame after removing units:\")\n",
        "print(df)\n",
        "print(\"\\n\" + \"=\"*50 + \"\\n\")"
      ],
      "metadata": {
        "colab": {
          "base_uri": "https://localhost:8080/"
        },
        "id": "pr34JMUdQexn",
        "outputId": "80e22c0a-f566-42e7-930e-5a25f79f0e3b"
      },
      "execution_count": 8,
      "outputs": [
        {
          "output_type": "stream",
          "name": "stdout",
          "text": [
            "Removed units from column 'Mileage'\n",
            "Removed units from column 'Engine'\n",
            "Removed units from column 'Power'\n",
            "Removed units from column 'New_Price'\n",
            "\n",
            "DataFrame after removing units:\n",
            "      Unnamed: 0                              Name    Location  Year  \\\n",
            "0              1  Hyundai Creta 1.6 CRDi SX Option        Pune  2015   \n",
            "1              2                      Honda Jazz V     Chennai  2011   \n",
            "2              3                 Maruti Ertiga VDI     Chennai  2012   \n",
            "3              4   Audi A4 New 2.0 TDI Multitronic  Coimbatore  2013   \n",
            "4              6            Nissan Micra Diesel XV      Jaipur  2013   \n",
            "...          ...                               ...         ...   ...   \n",
            "5842        6014                  Maruti Swift VDI       Delhi  2014   \n",
            "5843        6015          Hyundai Xcent 1.1 CRDi S      Jaipur  2015   \n",
            "5844        6016             Mahindra Xylo D4 BSIV      Jaipur  2012   \n",
            "5845        6017                Maruti Wagon R VXI     Kolkata  2013   \n",
            "5846        6018             Chevrolet Beat Diesel   Hyderabad  2011   \n",
            "\n",
            "      Kilometers_Driven Fuel_Type Transmission Owner_Type  Mileage  Engine  \\\n",
            "0                 41000    Diesel       Manual      First    19.67  1582.0   \n",
            "1                 46000    Petrol       Manual      First    13.00  1199.0   \n",
            "2                 87000    Diesel       Manual      First    20.77  1248.0   \n",
            "3                 40670    Diesel    Automatic     Second    15.20  1968.0   \n",
            "4                 86999    Diesel       Manual      First    23.08  1461.0   \n",
            "...                 ...       ...          ...        ...      ...     ...   \n",
            "5842              27365    Diesel       Manual      First    28.40  1248.0   \n",
            "5843             100000    Diesel       Manual      First    24.40  1120.0   \n",
            "5844              55000    Diesel       Manual     Second    14.00  2498.0   \n",
            "5845              46000    Petrol       Manual      First    18.90   998.0   \n",
            "5846              47000    Diesel       Manual      First    25.44   936.0   \n",
            "\n",
            "       Power  Seats  New_Price  Price  \n",
            "0     126.20    5.0       0.00  12.50  \n",
            "1      88.70    5.0       8.61   4.50  \n",
            "2      88.76    7.0       0.00   6.00  \n",
            "3     140.80    5.0       0.00  17.74  \n",
            "4      63.10    5.0       0.00   3.50  \n",
            "...      ...    ...        ...    ...  \n",
            "5842   74.00    5.0       7.88   4.75  \n",
            "5843   71.00    5.0       0.00   4.00  \n",
            "5844  112.00    8.0       0.00   2.90  \n",
            "5845   67.10    5.0       0.00   2.65  \n",
            "5846   57.60    5.0       0.00   2.50  \n",
            "\n",
            "[5847 rows x 14 columns]\n",
            "\n",
            "==================================================\n",
            "\n"
          ]
        }
      ]
    },
    {
      "cell_type": "code",
      "source": [
        "categorical_cols = ['Fuel_Type', 'Transmission']\n",
        "\n",
        "df = pd.get_dummies(df, columns=categorical_cols, drop_first=True)\n",
        "print(\"DataFrame after one-hot encoding:\")\n",
        "print(df)\n",
        "print(\"\\n\" + \"=\"*50 + \"\\n\")"
      ],
      "metadata": {
        "colab": {
          "base_uri": "https://localhost:8080/"
        },
        "id": "Vg0pOlYXQhTH",
        "outputId": "85af40a1-bcd9-4331-9f0c-f95ce30273d5"
      },
      "execution_count": 9,
      "outputs": [
        {
          "output_type": "stream",
          "name": "stdout",
          "text": [
            "DataFrame after one-hot encoding:\n",
            "      Unnamed: 0                              Name    Location  Year  \\\n",
            "0              1  Hyundai Creta 1.6 CRDi SX Option        Pune  2015   \n",
            "1              2                      Honda Jazz V     Chennai  2011   \n",
            "2              3                 Maruti Ertiga VDI     Chennai  2012   \n",
            "3              4   Audi A4 New 2.0 TDI Multitronic  Coimbatore  2013   \n",
            "4              6            Nissan Micra Diesel XV      Jaipur  2013   \n",
            "...          ...                               ...         ...   ...   \n",
            "5842        6014                  Maruti Swift VDI       Delhi  2014   \n",
            "5843        6015          Hyundai Xcent 1.1 CRDi S      Jaipur  2015   \n",
            "5844        6016             Mahindra Xylo D4 BSIV      Jaipur  2012   \n",
            "5845        6017                Maruti Wagon R VXI     Kolkata  2013   \n",
            "5846        6018             Chevrolet Beat Diesel   Hyderabad  2011   \n",
            "\n",
            "      Kilometers_Driven Owner_Type  Mileage  Engine   Power  Seats  New_Price  \\\n",
            "0                 41000      First    19.67  1582.0  126.20    5.0       0.00   \n",
            "1                 46000      First    13.00  1199.0   88.70    5.0       8.61   \n",
            "2                 87000      First    20.77  1248.0   88.76    7.0       0.00   \n",
            "3                 40670     Second    15.20  1968.0  140.80    5.0       0.00   \n",
            "4                 86999      First    23.08  1461.0   63.10    5.0       0.00   \n",
            "...                 ...        ...      ...     ...     ...    ...        ...   \n",
            "5842              27365      First    28.40  1248.0   74.00    5.0       7.88   \n",
            "5843             100000      First    24.40  1120.0   71.00    5.0       0.00   \n",
            "5844              55000     Second    14.00  2498.0  112.00    8.0       0.00   \n",
            "5845              46000      First    18.90   998.0   67.10    5.0       0.00   \n",
            "5846              47000      First    25.44   936.0   57.60    5.0       0.00   \n",
            "\n",
            "      Price  Fuel_Type_Electric  Fuel_Type_Petrol  Transmission_Manual  \n",
            "0     12.50               False             False                 True  \n",
            "1      4.50               False              True                 True  \n",
            "2      6.00               False             False                 True  \n",
            "3     17.74               False             False                False  \n",
            "4      3.50               False             False                 True  \n",
            "...     ...                 ...               ...                  ...  \n",
            "5842   4.75               False             False                 True  \n",
            "5843   4.00               False             False                 True  \n",
            "5844   2.90               False             False                 True  \n",
            "5845   2.65               False              True                 True  \n",
            "5846   2.50               False             False                 True  \n",
            "\n",
            "[5847 rows x 15 columns]\n",
            "\n",
            "==================================================\n",
            "\n"
          ]
        }
      ]
    },
    {
      "cell_type": "code",
      "source": [
        "current_year = 2025\n",
        "df['Car_Age'] = current_year - df['Year']\n",
        "print(\"DataFrame with 'Car_Age' feature:\")\n",
        "print(df)\n",
        "print(\"\\n\" + \"=\"*50 + \"\\n\")"
      ],
      "metadata": {
        "colab": {
          "base_uri": "https://localhost:8080/"
        },
        "id": "euf454siQjbb",
        "outputId": "847b5d00-57ca-4484-cfe5-0b744ce71708"
      },
      "execution_count": 10,
      "outputs": [
        {
          "output_type": "stream",
          "name": "stdout",
          "text": [
            "DataFrame with 'Car_Age' feature:\n",
            "      Unnamed: 0                              Name    Location  Year  \\\n",
            "0              1  Hyundai Creta 1.6 CRDi SX Option        Pune  2015   \n",
            "1              2                      Honda Jazz V     Chennai  2011   \n",
            "2              3                 Maruti Ertiga VDI     Chennai  2012   \n",
            "3              4   Audi A4 New 2.0 TDI Multitronic  Coimbatore  2013   \n",
            "4              6            Nissan Micra Diesel XV      Jaipur  2013   \n",
            "...          ...                               ...         ...   ...   \n",
            "5842        6014                  Maruti Swift VDI       Delhi  2014   \n",
            "5843        6015          Hyundai Xcent 1.1 CRDi S      Jaipur  2015   \n",
            "5844        6016             Mahindra Xylo D4 BSIV      Jaipur  2012   \n",
            "5845        6017                Maruti Wagon R VXI     Kolkata  2013   \n",
            "5846        6018             Chevrolet Beat Diesel   Hyderabad  2011   \n",
            "\n",
            "      Kilometers_Driven Owner_Type  Mileage  Engine   Power  Seats  New_Price  \\\n",
            "0                 41000      First    19.67  1582.0  126.20    5.0       0.00   \n",
            "1                 46000      First    13.00  1199.0   88.70    5.0       8.61   \n",
            "2                 87000      First    20.77  1248.0   88.76    7.0       0.00   \n",
            "3                 40670     Second    15.20  1968.0  140.80    5.0       0.00   \n",
            "4                 86999      First    23.08  1461.0   63.10    5.0       0.00   \n",
            "...                 ...        ...      ...     ...     ...    ...        ...   \n",
            "5842              27365      First    28.40  1248.0   74.00    5.0       7.88   \n",
            "5843             100000      First    24.40  1120.0   71.00    5.0       0.00   \n",
            "5844              55000     Second    14.00  2498.0  112.00    8.0       0.00   \n",
            "5845              46000      First    18.90   998.0   67.10    5.0       0.00   \n",
            "5846              47000      First    25.44   936.0   57.60    5.0       0.00   \n",
            "\n",
            "      Price  Fuel_Type_Electric  Fuel_Type_Petrol  Transmission_Manual  \\\n",
            "0     12.50               False             False                 True   \n",
            "1      4.50               False              True                 True   \n",
            "2      6.00               False             False                 True   \n",
            "3     17.74               False             False                False   \n",
            "4      3.50               False             False                 True   \n",
            "...     ...                 ...               ...                  ...   \n",
            "5842   4.75               False             False                 True   \n",
            "5843   4.00               False             False                 True   \n",
            "5844   2.90               False             False                 True   \n",
            "5845   2.65               False              True                 True   \n",
            "5846   2.50               False             False                 True   \n",
            "\n",
            "      Car_Age  \n",
            "0          10  \n",
            "1          14  \n",
            "2          13  \n",
            "3          12  \n",
            "4          12  \n",
            "...       ...  \n",
            "5842       11  \n",
            "5843       10  \n",
            "5844       13  \n",
            "5845       12  \n",
            "5846       14  \n",
            "\n",
            "[5847 rows x 16 columns]\n",
            "\n",
            "==================================================\n",
            "\n"
          ]
        }
      ]
    },
    {
      "cell_type": "code",
      "source": [
        "selected_cols_df = df[['Name', 'Location', 'Car_Age', 'Kilometers_Driven', 'Price']]\n",
        "print(\"SELECT operation (selected columns):\")\n",
        "print(selected_cols_df)\n",
        "print(\"\\n\")\n",
        "\n",
        "filtered_df = df[df['Fuel_Type_Petrol'] == 1]\n",
        "print(\"FILTER operation (Petrol cars):\")\n",
        "print(filtered_df)\n",
        "print(\"\\n\")\n",
        "\n",
        "renamed_df = df.rename(columns={'Kilometers_Driven': 'Driven_Kms', 'Car_Age': 'Age_in_Years'})\n",
        "print(\"RENAME operation (renamed columns):\")\n",
        "print(renamed_df.head())\n",
        "print(\"\\n\")"
      ],
      "metadata": {
        "colab": {
          "base_uri": "https://localhost:8080/"
        },
        "id": "l2-ZXx2smuTB",
        "outputId": "392a0dad-c836-48c6-bf5a-cf69d56c6722"
      },
      "execution_count": 12,
      "outputs": [
        {
          "output_type": "stream",
          "name": "stdout",
          "text": [
            "SELECT operation (selected columns):\n",
            "                                  Name    Location  Car_Age  \\\n",
            "0     Hyundai Creta 1.6 CRDi SX Option        Pune       10   \n",
            "1                         Honda Jazz V     Chennai       14   \n",
            "2                    Maruti Ertiga VDI     Chennai       13   \n",
            "3      Audi A4 New 2.0 TDI Multitronic  Coimbatore       12   \n",
            "4               Nissan Micra Diesel XV      Jaipur       12   \n",
            "...                                ...         ...      ...   \n",
            "5842                  Maruti Swift VDI       Delhi       11   \n",
            "5843          Hyundai Xcent 1.1 CRDi S      Jaipur       10   \n",
            "5844             Mahindra Xylo D4 BSIV      Jaipur       13   \n",
            "5845                Maruti Wagon R VXI     Kolkata       12   \n",
            "5846             Chevrolet Beat Diesel   Hyderabad       14   \n",
            "\n",
            "      Kilometers_Driven  Price  \n",
            "0                 41000  12.50  \n",
            "1                 46000   4.50  \n",
            "2                 87000   6.00  \n",
            "3                 40670  17.74  \n",
            "4                 86999   3.50  \n",
            "...                 ...    ...  \n",
            "5842              27365   4.75  \n",
            "5843             100000   4.00  \n",
            "5844              55000   2.90  \n",
            "5845              46000   2.65  \n",
            "5846              47000   2.50  \n",
            "\n",
            "[5847 rows x 5 columns]\n",
            "\n",
            "\n",
            "FILTER operation (Petrol cars):\n",
            "      Unnamed: 0                                  Name    Location  Year  \\\n",
            "1              2                          Honda Jazz V     Chennai  2011   \n",
            "8             10                      Maruti Ciaz Zeta       Kochi  2018   \n",
            "9             11           Honda City 1.5 V AT Sunroof     Kolkata  2012   \n",
            "20            22  Audi A6 2011-2015 35 TFSI Technology      Mumbai  2015   \n",
            "21            23                 Hyundai i20 1.2 Magna     Kolkata  2010   \n",
            "...          ...                                   ...         ...   ...   \n",
            "5832        6004                      Hyundai Getz GLE  Coimbatore  2007   \n",
            "5837        6009                   Toyota Camry Hybrid      Mumbai  2015   \n",
            "5838        6010                  Honda Brio 1.2 VX MT       Delhi  2013   \n",
            "5839        6011               Skoda Superb 3.6 V6 FSI   Hyderabad  2009   \n",
            "5845        6017                    Maruti Wagon R VXI     Kolkata  2013   \n",
            "\n",
            "      Kilometers_Driven Owner_Type  Mileage  Engine   Power  Seats  New_Price  \\\n",
            "1                 46000      First    13.00  1199.0   88.70    5.0       8.61   \n",
            "8                 25692      First    21.56  1462.0  103.25    5.0      10.65   \n",
            "9                 60000      First    16.80  1497.0  116.30    5.0       0.00   \n",
            "20                55985      First    13.53  1984.0  177.01    5.0       0.00   \n",
            "21                45807      First    18.50  1197.0   80.00    5.0       0.00   \n",
            "...                 ...        ...      ...     ...     ...    ...        ...   \n",
            "5832              66800      First    15.30  1341.0   83.00    5.0       0.00   \n",
            "5837              33500      First    19.16  2494.0  158.20    5.0       0.00   \n",
            "5838              33746      First    18.50  1198.0   86.80    5.0       6.63   \n",
            "5839              53000      First     0.00  3597.0  262.60    5.0       0.00   \n",
            "5845              46000      First    18.90   998.0   67.10    5.0       0.00   \n",
            "\n",
            "      Price  Fuel_Type_Electric  Fuel_Type_Petrol  Transmission_Manual  \\\n",
            "1      4.50               False              True                 True   \n",
            "8      9.95               False              True                 True   \n",
            "9      4.49               False              True                False   \n",
            "20    23.50               False              True                False   \n",
            "21     1.87               False              True                 True   \n",
            "...     ...                 ...               ...                  ...   \n",
            "5832   2.20               False              True                 True   \n",
            "5837  19.75               False              True                False   \n",
            "5838   3.20               False              True                 True   \n",
            "5839   4.75               False              True                False   \n",
            "5845   2.65               False              True                 True   \n",
            "\n",
            "      Car_Age  \n",
            "1          14  \n",
            "8           7  \n",
            "9          13  \n",
            "20         10  \n",
            "21         15  \n",
            "...       ...  \n",
            "5832       18  \n",
            "5837       10  \n",
            "5838       12  \n",
            "5839       16  \n",
            "5845       12  \n",
            "\n",
            "[2684 rows x 16 columns]\n",
            "\n",
            "\n",
            "RENAME operation (renamed columns):\n",
            "   Unnamed: 0                              Name    Location  Year  Driven_Kms  \\\n",
            "0           1  Hyundai Creta 1.6 CRDi SX Option        Pune  2015       41000   \n",
            "1           2                      Honda Jazz V     Chennai  2011       46000   \n",
            "2           3                 Maruti Ertiga VDI     Chennai  2012       87000   \n",
            "3           4   Audi A4 New 2.0 TDI Multitronic  Coimbatore  2013       40670   \n",
            "4           6            Nissan Micra Diesel XV      Jaipur  2013       86999   \n",
            "\n",
            "  Owner_Type  Mileage  Engine   Power  Seats  New_Price  Price  \\\n",
            "0      First    19.67  1582.0  126.20    5.0       0.00  12.50   \n",
            "1      First    13.00  1199.0   88.70    5.0       8.61   4.50   \n",
            "2      First    20.77  1248.0   88.76    7.0       0.00   6.00   \n",
            "3     Second    15.20  1968.0  140.80    5.0       0.00  17.74   \n",
            "4      First    23.08  1461.0   63.10    5.0       0.00   3.50   \n",
            "\n",
            "   Fuel_Type_Electric  Fuel_Type_Petrol  Transmission_Manual  Age_in_Years  \n",
            "0               False             False                 True            10  \n",
            "1               False              True                 True            14  \n",
            "2               False             False                 True            13  \n",
            "3               False             False                False            12  \n",
            "4               False             False                 True            12  \n",
            "\n",
            "\n"
          ]
        }
      ]
    },
    {
      "cell_type": "code",
      "source": [
        "df['Price_Per_KM'] = df['Price'] / (df['Kilometers_Driven'] + 1e-6) # Adding a small epsilon to avoid division by zero\n",
        "print(\"MUTATE operation (added 'Price_Per_KM'):\")\n",
        "print(df[['Name', 'Price', 'Kilometers_Driven', 'Price_Per_KM']].head())\n",
        "print(\"\\n\")\n",
        "\n",
        "arranged_df = df.sort_values(by='Car_Age', ascending=False)\n",
        "print(\"ARRANGE operation (sorted by 'Car_Age' descending):\")\n",
        "print(arranged_df[['Name', 'Car_Age']].head())\n",
        "print(\"\\n\")\n",
        "\n",
        "grouped_df = df.groupby('Fuel_Type_Petrol')['Price'].agg(['mean', 'median', 'count']).reset_index()\n",
        "grouped_df['Fuel_Type'] = grouped_df['Fuel_Type_Petrol'].apply(lambda x: 'Petrol' if x == 1 else 'Diesel')\n",
        "print(\"SUMMARIZE with GROUP BY ('Fuel_Type'):\")\n",
        "print(grouped_df[['Fuel_Type', 'mean', 'median', 'count']])"
      ],
      "metadata": {
        "colab": {
          "base_uri": "https://localhost:8080/"
        },
        "id": "NutEnEQtQoya",
        "outputId": "4b321fac-3ad9-4129-f292-50a80b9eb9bf"
      },
      "execution_count": 15,
      "outputs": [
        {
          "output_type": "stream",
          "name": "stdout",
          "text": [
            "MUTATE operation (added 'Price_Per_KM'):\n",
            "                               Name  Price  Kilometers_Driven  Price_Per_KM\n",
            "0  Hyundai Creta 1.6 CRDi SX Option  12.50              41000      0.000305\n",
            "1                      Honda Jazz V   4.50              46000      0.000098\n",
            "2                 Maruti Ertiga VDI   6.00              87000      0.000069\n",
            "3   Audi A4 New 2.0 TDI Multitronic  17.74              40670      0.000436\n",
            "4            Nissan Micra Diesel XV   3.50              86999      0.000040\n",
            "\n",
            "\n",
            "ARRANGE operation (sorted by 'Car_Age' descending):\n",
            "                                   Name  Car_Age\n",
            "3630  Mercedes-Benz E-Class 250 D W 210       27\n",
            "5558                      Maruti Zen LX       27\n",
            "3039                     Maruti Zen LXI       27\n",
            "1791                 Honda City 1.3 EXI       26\n",
            "1185                      Maruti Zen VX       26\n",
            "\n",
            "\n",
            "SUMMARIZE with GROUP BY ('Fuel_Type'):\n",
            "  Fuel_Type       mean  median  count\n",
            "0    Diesel  12.960632   7.850   3163\n",
            "1    Petrol   5.756688   4.205   2684\n"
          ]
        }
      ]
    }
  ]
}